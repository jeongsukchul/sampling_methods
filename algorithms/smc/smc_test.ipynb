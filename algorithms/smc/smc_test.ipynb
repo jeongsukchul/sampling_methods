{
 "cells": [
  {
   "cell_type": "code",
   "execution_count": 12,
   "metadata": {},
   "outputs": [],
   "source": [
    "import os, sys\n",
    "from datetime import datetime\n",
    "from pathlib import Path\n",
    "from types import SimpleNamespace\n",
    "proj = Path.home() / \"papercode/variational_sampling_methods\"\n",
    "sys.path.insert(0, str(proj))\n",
    "# os.environ['PYTHONPATH'] = os.environ.get(\"PYTHONPATH\",\"\") + \"~/papercode/variational_sampling_methods\"\n",
    "from algorithms.common import flow_transport, markov_kernel\n",
    "import hydra\n",
    "import jax\n",
    "import matplotlib\n",
    "import distrax\n",
    "import jax.numpy as jnp\n",
    "import numpy as np\n",
    "import time\n",
    "import matplotlib.pyplot as plt\n",
    "from targets.funnel import Funnel\n",
    "from targets.gaussian_mixture import GaussianMixtureModel\n",
    "from omegaconf import OmegaConf\n",
    "os.environ['HYDRA_FULL_ERROR'] = '1'\n",
    "os.environ['XLA_PYTHON_CLIENT_PREALLOCATE'] = 'false'\n",
    "alg_cfg = OmegaConf.create({\n",
    "    \"num_temps\": 128,\n",
    "    \"resample_threshold\": 0.3,\n",
    "    \"init_mean\": 0.0,\n",
    "    \"init_std\":1.0,\n",
    "    \"use_resampling\": False,\n",
    "    \"use_markov\": True,\n",
    "})\n",
    "\n",
    "mcmc_cfg = SimpleNamespace()\n",
    "mcmc_cfg.mcmc_kernel='hmc'\n",
    "mcmc_cfg.hmc_step_times=[0., 0.5]\n",
    "mcmc_cfg.hmc_steps_per_iter=1\n",
    "mcmc_cfg.hmc_num_leapfrog_steps=10\n",
    "mcmc_cfg.hmc_step_sizes = [0.001, 0.1]\n",
    "dim=2\n",
    "seed =0"
   ]
  },
  {
   "cell_type": "code",
   "execution_count": null,
   "metadata": {},
   "outputs": [],
   "source": [
    "from targets.gmm40 import GMM40\n",
    "\n",
    "\n",
    "target = Funnel(dim=dim, sample_bounds=[-30., 30.])\n",
    "target = GMM40(dim=dim, sample_bounds=[-30., 30.])\n",
    "final_log_density = target.log_prob\n",
    "key = jax.random.PRNGKey(seed)\n",
    "\n",
    "initial_density = distrax.MultivariateNormalDiag(jnp.ones(dim) * alg_cfg.init_mean, jnp.ones(dim) * alg_cfg.init_std)\n",
    "log_density_initial = initial_density.log_prob\n",
    "initial_sampler = initial_density.sample\n",
    "density_by_step = flow_transport.GeometricAnnealingSchedule(log_density_initial, final_log_density, alg_cfg.num_temps)\n",
    "markov_kernel_by_step = markov_kernel.MarkovTransitionKernel(mcmc_cfg, density_by_step, alg_cfg.num_temps)\n",
    "\n",
    "logger = {\n",
    "    'KL/elbo': [],\n",
    "    'KL/eubo': [],\n",
    "    'logZ/delta_forward': [],\n",
    "    'logZ/forward': [],\n",
    "    'logZ/delta_reverse': [],\n",
    "    'logZ/reverse': [],\n",
    "    'ESS/forward': [],\n",
    "    'ESS/reverse': [],\n",
    "    'discrepancies/mmd': [],\n",
    "    'discrepancies/sd': [],\n",
    "    'other/target_log_prob': [],\n",
    "    'other/EMC': [],\n",
    "    \"stats/step\": [],\n",
    "    \"stats/wallclock\": [],\n",
    "    \"stats/nfe\": [],\n",
    "}\n",
    "\n",
    "n_eval_samples = 1000\n",
    "batch_size= 2000\n",
    "def eval_fn(samples, elbo, rev_lnz, eubo, fwd_lnz):\n",
    "\n",
    "    if target.log_Z is not None:\n",
    "        logger['logZ/delta_reverse'].append(jnp.abs(rev_lnz - target.log_Z))\n",
    "\n",
    "    logger['logZ/reverse'].append(rev_lnz)\n",
    "    logger['KL/elbo'].append(elbo)\n",
    "    logger['other/target_log_prob'].append(jnp.mean(target.log_prob(samples)))\n",
    "\n",
    "    if eubo is not None:\n",
    "        if target.log_Z is not None:\n",
    "            logger['logZ/delta_forward'].append(jnp.abs(fwd_lnz - target.log_Z))\n",
    "        logger['logZ/forward'].append(fwd_lnz)\n",
    "        logger['KL/eubo'].append(eubo)\n",
    "\n",
    "    logger.update(target.visualise(samples=samples, show=True))\n",
    "    return logger"
   ]
  },
  {
   "cell_type": "code",
   "execution_count": 14,
   "metadata": {},
   "outputs": [
    {
     "name": "stderr",
     "output_type": "stream",
     "text": [
      "/home/sukchul/papercode/variational_sampling_methods/targets/gmm40.py:85: UserWarning: FigureCanvasAgg is non-interactive, and thus cannot be shown\n",
      "  plt.show()\n"
     ]
    }
   ],
   "source": [
    "from algorithms.common.eval_methods.sis_methods import get_eval_fn\n",
    "from algorithms.smc.smc import get_short_inner_loop, get_short_reverse_inner_loop\n",
    "\n",
    "\n",
    "key, subkey = jax.random.split(key)\n",
    "num_temps = alg_cfg.num_temps\n",
    "target_samples = target.sample(jax.random.PRNGKey(0), (n_eval_samples,))\n",
    "alg_cfg.use_resampling=True\n",
    "samples = initial_sampler(seed=jax.random.PRNGKey(0), sample_shape=(batch_size,))\n",
    "log_weights = -jnp.log(batch_size) * jnp.ones(batch_size)\n",
    "inner_loop_jit = jax.jit(get_short_inner_loop(markov_kernel_by_step, density_by_step, alg_cfg))\n",
    "reverse_inner_loop_jit = jax.jit(get_short_reverse_inner_loop(markov_kernel_by_step, density_by_step, alg_cfg))\n",
    "\n",
    "\n",
    "ln_z = 0.\n",
    "elbo = 0.\n",
    "start_time = time.time()\n",
    "\n",
    "acceptance_hmc = []\n",
    "acceptance_rwm = []\n",
    "\n",
    "for step in range(1, num_temps):\n",
    "    subkey, key = jax.random.split(key)\n",
    "    samples, log_weights, ln_z_inc, acceptance = inner_loop_jit(\n",
    "        subkey, samples, log_weights, step)\n",
    "    ln_z_inc, elbo_inc = ln_z_inc\n",
    "    acceptance_hmc.append(float(np.asarray(acceptance[0])))\n",
    "    acceptance_rwm.append(float(np.asarray(acceptance[1])))\n",
    "    ln_z += ln_z_inc\n",
    "    elbo += elbo_inc\n",
    "\n",
    "\n",
    "logger = eval_fn(samples, elbo, ln_z, None, None)\n",
    "\n",
    "finish_time = time.time()\n",
    "delta_time = finish_time - start_time"
   ]
  },
  {
   "cell_type": "code",
   "execution_count": 15,
   "metadata": {},
   "outputs": [
    {
     "name": "stderr",
     "output_type": "stream",
     "text": [
      "/tmp/ipykernel_874710/1852997264.py:5: UserWarning: FigureCanvasAgg is non-interactive, and thus cannot be shown\n",
      "  plt.show()\n"
     ]
    },
    {
     "data": {
      "text/plain": [
       "{'KL/elbo': [Array(-2.3806105, dtype=float32)],\n",
       " 'KL/eubo': [],\n",
       " 'logZ/delta_forward': [],\n",
       " 'logZ/forward': [],\n",
       " 'logZ/delta_reverse': [Array(2.3005915, dtype=float32)],\n",
       " 'logZ/reverse': [Array(-2.3005915, dtype=float32)],\n",
       " 'ESS/forward': [],\n",
       " 'ESS/reverse': [],\n",
       " 'discrepancies/mmd': [],\n",
       " 'discrepancies/sd': [],\n",
       " 'other/target_log_prob': [Array(-6.529519, dtype=float32)],\n",
       " 'other/EMC': [],\n",
       " 'stats/step': [],\n",
       " 'stats/wallclock': [],\n",
       " 'stats/nfe': [],\n",
       " 'figures/vis': [<wandb.sdk.data_types.image.Image at 0x737f346c5a50>]}"
      ]
     },
     "execution_count": 15,
     "metadata": {},
     "output_type": "execute_result"
    }
   ],
   "source": [
    "wb_img = logger['figures/vis'][0]\n",
    "pil = wb_img.image\n",
    "plt.figure()\n",
    "plt.imshow(pil)\n",
    "plt.show()\n",
    "wb_img.image.save(\"smc_result.png\")\n",
    "logger"
   ]
  },
  {
   "cell_type": "markdown",
   "metadata": {},
   "source": [
    "Use AIS Sampling Methods"
   ]
  },
  {
   "cell_type": "code",
   "execution_count": 20,
   "metadata": {},
   "outputs": [],
   "source": [
    "alg_cfg=SimpleNamespace()\n",
    "alg_cfg.alpha=2\n",
    "smc_cfg=SimpleNamespace()\n",
    "smc_cfg.batch_size=batch_size\n",
    "smc_cfg.use_resampling=False\n",
    "smc_cfg.n_intermediate_distributions=12\n",
    "smc_cfg.spacing_type=\"linear\"\n",
    "smc_cfg.transition_operator=\"hmc\"  # [hmc or metropolis]\n",
    "smc_cfg.point_is_valid_fn_type=\"default\"   # [default, in_bounds]\n",
    "\n",
    "hmc_cfg=SimpleNamespace()\n",
    "hmc_cfg.n_outer_steps=1\n",
    "hmc_cfg.n_inner_steps=10\n",
    "hmc_cfg.init_step_size=1e-1\n",
    "hmc_cfg.target_p_accept=0.65\n",
    "hmc_cfg.tune_step_size=True\n",
    "seed=0"
   ]
  },
  {
   "cell_type": "code",
   "execution_count": 21,
   "metadata": {},
   "outputs": [],
   "source": [
    "from algorithms.fab.flow.simple_flow import make_realnvp_flow_networks\n",
    "from algorithms.fab.sampling.point_is_valid import default_point_is_valid_fn\n",
    "from algorithms.fab.sampling.mcmc.hmc import build_blackjax_hmc\n",
    "from algorithms.fab.sampling.smc import build_smc\n",
    "\n",
    "\n",
    "transition_operator = build_blackjax_hmc(\n",
    "    dim=dim,\n",
    "    n_outer_steps=hmc_cfg.n_outer_steps,\n",
    "    init_step_size=hmc_cfg.init_step_size,\n",
    "    target_p_accept=hmc_cfg.target_p_accept,\n",
    "    adapt_step_size=hmc_cfg.tune_step_size,\n",
    "    n_inner_steps=hmc_cfg.n_inner_steps)\n",
    "smc = build_smc(transition_operator=transition_operator,\n",
    "            n_intermediate_distributions=smc_cfg.n_intermediate_distributions,\n",
    "            spacing_type=smc_cfg.spacing_type, alpha=alg_cfg.alpha,\n",
    "            use_resampling=smc_cfg.use_resampling, point_is_valid_fn=default_point_is_valid_fn)\n",
    "rng = jax.random.PRNGKey(seed)\n",
    "rng, key, rng_params = jax.random.split(rng,3)\n",
    "smc_state = smc.init(key)\n",
    "nfm = make_realnvp_flow_networks(num_blocks=6, in_channels=2, channels=256)\n",
    "flow_params = nfm.init({\"params\": rng_params}, batch_size=5)  \n",
    "# samples, loq_p = nfm.apply(flow_params, mode='sample', low=[-20,-20], high=[20,20], rng=key, n_samples=batch_size)\n",
    "low_bound = [-20, -20]\n",
    "high_bound = [20, 20]\n",
    "def log_q_fn(x):\n",
    "    return nfm.apply(flow_params, mode='log_prob', low=low_bound, high=high_bound, x=x)\n",
    "\n",
    "def body_fn(carry, xs):\n",
    "    \"\"\"Generate samples with AIS/SMC.\"\"\"\n",
    "    smc_state = carry\n",
    "    key = xs\n",
    "    x0, _= nfm.apply(flow_params, mode='sample', low=low_bound, high=high_bound, rng=key, n_samples=batch_size)\n",
    "    \n",
    "    point, log_w, smc_state, smc_info = smc.step(x0, smc_state, log_q_fn, target.log_prob)# compute metrics\n",
    "    ln_z = jax.nn.logsumexp(log_w, axis=-1) - jnp.log(batch_size)\n",
    "    elbo = jnp.mean(log_w)\n",
    "    return smc_state, (point.x, log_w, point.log_q, elbo, ln_z)\n",
    "\n",
    "smc_state, (x, log_w, log_q, elbo, ln_z) = jax.lax.scan(body_fn, init=smc_state,\n",
    "                                            xs=jax.random.split(key, 10))\n",
    "logger = eval_fn(x[-1], elbo[-1], ln_z[-1], None, None)"
   ]
  },
  {
   "cell_type": "code",
   "execution_count": 23,
   "metadata": {},
   "outputs": [
    {
     "name": "stderr",
     "output_type": "stream",
     "text": [
      "/tmp/ipykernel_874710/3983324913.py:6: UserWarning: FigureCanvasAgg is non-interactive, and thus cannot be shown\n",
      "  plt.show()\n"
     ]
    }
   ],
   "source": [
    "from IPython.display import display\n",
    "wb_img = logger['figures/vis'][0]\n",
    "pil = wb_img.image\n",
    "plt.figure()\n",
    "plt.imshow(pil)\n",
    "plt.show()\n",
    "wb_img.image.save(\"ais_result.png\")\n",
    "# display(logger['figures/vis'][0])"
   ]
  },
  {
   "cell_type": "code",
   "execution_count": 24,
   "metadata": {},
   "outputs": [
    {
     "data": {
      "text/plain": [
       "{'KL/elbo': [Array(-2.3806105, dtype=float32),\n",
       "  Array(-3.7049894, dtype=float32),\n",
       "  Array(-2.3510933, dtype=float32)],\n",
       " 'KL/eubo': [],\n",
       " 'logZ/delta_forward': [],\n",
       " 'logZ/forward': [],\n",
       " 'logZ/delta_reverse': [Array(2.3005915, dtype=float32),\n",
       "  Array(1.2598205, dtype=float32),\n",
       "  Array(120.710464, dtype=float32)],\n",
       " 'logZ/reverse': [Array(-2.3005915, dtype=float32),\n",
       "  Array(-1.2598205, dtype=float32),\n",
       "  Array(120.710464, dtype=float32)],\n",
       " 'ESS/forward': [],\n",
       " 'ESS/reverse': [],\n",
       " 'discrepancies/mmd': [],\n",
       " 'discrepancies/sd': [],\n",
       " 'other/target_log_prob': [Array(-6.529519, dtype=float32),\n",
       "  Array(-6.72477, dtype=float32),\n",
       "  Array(-6.1614933, dtype=float32)],\n",
       " 'other/EMC': [],\n",
       " 'stats/step': [],\n",
       " 'stats/wallclock': [],\n",
       " 'stats/nfe': [],\n",
       " 'figures/vis': [<wandb.sdk.data_types.image.Image at 0x737f2c7de380>]}"
      ]
     },
     "execution_count": 24,
     "metadata": {},
     "output_type": "execute_result"
    }
   ],
   "source": [
    "logger"
   ]
  },
  {
   "cell_type": "code",
   "execution_count": 28,
   "metadata": {},
   "outputs": [],
   "source": [
    "alg_cfg=SimpleNamespace()\n",
    "alg_cfg.alpha=2\n",
    "smc_cfg.batch_size=batch_size\n",
    "smc_cfg.use_resampling=False\n",
    "smc_cfg.n_intermediate_distributions=12\n",
    "smc_cfg.spacing_type=\"linear\"\n",
    "smc_cfg.transition_operator=\"hmc\"  # [hmc or metropolis]\n",
    "smc_cfg.point_is_valid_fn_type=\"default\"   # [default, in_bounds]\n",
    "\n",
    "mh_cfg=SimpleNamespace()\n",
    "mh_cfg.n_outer_steps=1\n",
    "mh_cfg.init_step_size=10.\n",
    "mh_cfg.target_p_accept=0.65\n",
    "mh_cfg.tune_step_size=True\n",
    "seed=0"
   ]
  },
  {
   "cell_type": "code",
   "execution_count": 29,
   "metadata": {},
   "outputs": [
    {
     "name": "stderr",
     "output_type": "stream",
     "text": [
      "/home/sukchul/papercode/variational_sampling_methods/targets/gmm40.py:85: UserWarning: FigureCanvasAgg is non-interactive, and thus cannot be shown\n",
      "  plt.show()\n"
     ]
    }
   ],
   "source": [
    "from algorithms.fab.sampling.mcmc.metropolis import build_metropolis\n",
    "\n",
    "\n",
    "transition_operator = build_metropolis(dim, mh_cfg.n_outer_steps,\n",
    "                                               mh_cfg.init_step_size,\n",
    "                                               target_p_accept=mh_cfg.target_p_accept,\n",
    "                                               tune_step_size=mh_cfg.tune_step_size)\n",
    "smc = build_smc(transition_operator=transition_operator,\n",
    "            n_intermediate_distributions=smc_cfg.n_intermediate_distributions,\n",
    "            spacing_type=smc_cfg.spacing_type, alpha=alg_cfg.alpha,\n",
    "            use_resampling=smc_cfg.use_resampling, point_is_valid_fn=default_point_is_valid_fn)\n",
    "rng = jax.random.PRNGKey(seed)\n",
    "rng, key, rng_params = jax.random.split(rng,3)\n",
    "smc_state = smc.init(key)\n",
    "nfm = make_realnvp_flow_networks(num_blocks=6, in_channels=2, channels=256)\n",
    "flow_params = nfm.init({\"params\": rng_params}, batch_size=5)  \n",
    "# samples, loq_p = nfm.apply(flow_params, mode='sample', low=[-20,-20], high=[20,20], rng=key, n_samples=batch_size)\n",
    "low_bound = [-20, -20]\n",
    "high_bound = [20, 20]\n",
    "def log_q_fn(x):\n",
    "    return nfm.apply(flow_params, mode='log_prob', low=low_bound, high=high_bound, x=x)\n",
    "\n",
    "def body_fn(carry, xs):\n",
    "    \"\"\"Generate samples with AIS/SMC.\"\"\"\n",
    "    smc_state = carry\n",
    "    key = xs\n",
    "    x0, _= nfm.apply(flow_params, mode='sample', low=low_bound, high=high_bound, rng=key, n_samples=batch_size)\n",
    "    \n",
    "    point, log_w, smc_state, smc_info = smc.step(x0, smc_state, log_q_fn, target.log_prob)# compute metrics\n",
    "    ln_z = jax.nn.logsumexp(log_w, axis=-1) - jnp.log(batch_size)\n",
    "    elbo = jnp.mean(log_w)\n",
    "    return smc_state, (point.x, log_w, point.log_q, elbo, ln_z)\n",
    "\n",
    "smc_state, (x, log_w, log_q, elbo, ln_z) = jax.lax.scan(body_fn, init=smc_state,\n",
    "                                            xs=jax.random.split(key, 10))\n",
    "logger = eval_fn(x[-1], elbo[-1], ln_z[-1], None, None)"
   ]
  },
  {
   "cell_type": "code",
   "execution_count": 30,
   "metadata": {},
   "outputs": [
    {
     "name": "stderr",
     "output_type": "stream",
     "text": [
      "/tmp/ipykernel_874710/2031568637.py:6: UserWarning: FigureCanvasAgg is non-interactive, and thus cannot be shown\n",
      "  plt.show()\n"
     ]
    }
   ],
   "source": [
    "from IPython.display import display\n",
    "wb_img = logger['figures/vis'][0]\n",
    "pil = wb_img.image\n",
    "plt.figure()\n",
    "plt.imshow(pil)\n",
    "plt.show()\n",
    "wb_img.image.save(\"ais_mh_result.png\")\n",
    "# display(logger['figures/vis'][0])"
   ]
  },
  {
   "cell_type": "markdown",
   "metadata": {},
   "source": [
    "logger"
   ]
  }
 ],
 "metadata": {
  "kernelspec": {
   "display_name": "sampling_bench",
   "language": "python",
   "name": "python3"
  },
  "language_info": {
   "codemirror_mode": {
    "name": "ipython",
    "version": 3
   },
   "file_extension": ".py",
   "mimetype": "text/x-python",
   "name": "python",
   "nbconvert_exporter": "python",
   "pygments_lexer": "ipython3",
   "version": "3.10.14"
  }
 },
 "nbformat": 4,
 "nbformat_minor": 2
}
